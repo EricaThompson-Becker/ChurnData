{
  "nbformat": 4,
  "nbformat_minor": 0,
  "metadata": {
    "colab": {
      "name": "Churn-Naive-Bayes.ipynb",
      "provenance": [],
      "collapsed_sections": []
    },
    "kernelspec": {
      "name": "python3",
      "display_name": "Python 3"
    },
    "language_info": {
      "name": "python"
    }
  },
  "cells": [
    {
      "cell_type": "markdown",
      "source": [
        "# To Churn or not to Churn?\n",
        "## Naive Bayes Classifier\n",
        "### Author: E. Thompson-Becker\n",
        "##### Code editied from python weka tutorial recieved from Toronto Metropolitan University, CIND 119 - Introduction to Big Data by Syed Shariyar Murtaza,Ph.D."
      ],
      "metadata": {
        "id": "iN-2Gdcl9HAY"
      }
    },
    {
      "cell_type": "markdown",
      "source": [
        "Install Weka's python package."
      ],
      "metadata": {
        "id": "Cx36zBjp9Pou"
      }
    },
    {
      "cell_type": "code",
      "execution_count": 1,
      "metadata": {
        "colab": {
          "base_uri": "https://localhost:8080/"
        },
        "id": "Zw5rxv7nw2R9",
        "outputId": "628e070e-1c65-47cb-a221-0fadfda299ab"
      },
      "outputs": [
        {
          "output_type": "stream",
          "name": "stdout",
          "text": [
            "Looking in indexes: https://pypi.org/simple, https://us-python.pkg.dev/colab-wheels/public/simple/\n",
            "Requirement already satisfied: python-weka-wrapper3 in /usr/local/lib/python3.7/dist-packages (0.2.10)\n",
            "Requirement already satisfied: packaging in /usr/local/lib/python3.7/dist-packages (from python-weka-wrapper3) (21.3)\n",
            "Requirement already satisfied: numpy in /usr/local/lib/python3.7/dist-packages (from python-weka-wrapper3) (1.21.6)\n",
            "Requirement already satisfied: python-javabridge>=4.0.0 in /usr/local/lib/python3.7/dist-packages (from python-weka-wrapper3) (4.0.3)\n",
            "Requirement already satisfied: pyparsing!=3.0.5,>=2.0.2 in /usr/local/lib/python3.7/dist-packages (from packaging->python-weka-wrapper3) (3.0.9)\n"
          ]
        }
      ],
      "source": [
        "! pip install python-weka-wrapper3"
      ]
    },
    {
      "cell_type": "markdown",
      "source": [
        "Set up java and and launch it in the python environment."
      ],
      "metadata": {
        "id": "bPLakdqF9bNV"
      }
    },
    {
      "cell_type": "code",
      "source": [
        "import os\n",
        "import sys\n",
        "sys.path\n",
        "sys.path.append(\"/usr/lib/jvm/java-11-openjdk-amd64/bin/\")\n",
        "os.environ[\"JAVA_HOME\"] = \"/usr/lib/jvm/java-11-openjdk-amd64/\"\n",
        "\n",
        "import weka.core.jvm as jvm\n",
        "jvm.start()"
      ],
      "metadata": {
        "colab": {
          "base_uri": "https://localhost:8080/"
        },
        "id": "_c5SDLQ213Ad",
        "outputId": "4ade6db2-1463-4f49-922e-32605c9f0ada"
      },
      "execution_count": 2,
      "outputs": [
        {
          "output_type": "stream",
          "name": "stderr",
          "text": [
            "DEBUG:weka.core.jvm:Adding bundled jars\n",
            "DEBUG:weka.core.jvm:Classpath=['/usr/local/lib/python3.7/dist-packages/javabridge/jars/rhino-1.7R4.jar', '/usr/local/lib/python3.7/dist-packages/javabridge/jars/runnablequeue.jar', '/usr/local/lib/python3.7/dist-packages/javabridge/jars/cpython.jar', '/usr/local/lib/python3.7/dist-packages/weka/lib/python-weka-wrapper.jar', '/usr/local/lib/python3.7/dist-packages/weka/lib/weka.jar']\n",
            "DEBUG:weka.core.jvm:MaxHeapSize=default\n",
            "DEBUG:weka.core.jvm:Package support disabled\n"
          ]
        }
      ]
    },
    {
      "cell_type": "markdown",
      "source": [
        "Import data into the python environment."
      ],
      "metadata": {
        "id": "YmxUMEaA9lL9"
      }
    },
    {
      "cell_type": "code",
      "source": [
        "from google.colab import files\n",
        "uploaded = files.upload()\n"
      ],
      "metadata": {
        "colab": {
          "resources": {
            "http://localhost:8080/nbextensions/google.colab/files.js": {
              "data": "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",
              "ok": true,
              "headers": [
                [
                  "content-type",
                  "application/javascript"
                ]
              ],
              "status": 200,
              "status_text": ""
            }
          },
          "base_uri": "https://localhost:8080/",
          "height": 74
        },
        "id": "73UcJQFo2Eig",
        "outputId": "a2b250a6-df8f-46f8-88a3-da89595ae19b"
      },
      "execution_count": 3,
      "outputs": [
        {
          "output_type": "display_data",
          "data": {
            "text/plain": [
              "<IPython.core.display.HTML object>"
            ],
            "text/html": [
              "\n",
              "     <input type=\"file\" id=\"files-c2a6e6a6-618e-4eea-983d-4dc1ebb3535e\" name=\"files[]\" multiple disabled\n",
              "        style=\"border:none\" />\n",
              "     <output id=\"result-c2a6e6a6-618e-4eea-983d-4dc1ebb3535e\">\n",
              "      Upload widget is only available when the cell has been executed in the\n",
              "      current browser session. Please rerun this cell to enable.\n",
              "      </output>\n",
              "      <script src=\"/nbextensions/google.colab/files.js\"></script> "
            ]
          },
          "metadata": {}
        },
        {
          "output_type": "stream",
          "name": "stdout",
          "text": [
            "Saving churn.arff to churn (3).arff\n"
          ]
        }
      ]
    },
    {
      "cell_type": "markdown",
      "source": [
        "Import packages"
      ],
      "metadata": {
        "id": "70sN5UQK9sMW"
      }
    },
    {
      "cell_type": "code",
      "source": [
        "from weka.core.converters import Loader\n",
        "from weka.core.classes import Random\n",
        "from weka.classifiers import Classifier, Evaluation\n",
        "from weka.filters import Filter"
      ],
      "metadata": {
        "id": "t2qbSdYm2WxX"
      },
      "execution_count": 4,
      "outputs": []
    },
    {
      "cell_type": "markdown",
      "source": [
        "Load data into memory to keep it in the environment. "
      ],
      "metadata": {
        "id": "I-GvwZbo9yRb"
      }
    },
    {
      "cell_type": "code",
      "source": [
        "loader = Loader(classname=\"weka.core.converters.ArffLoader\")\n",
        "data_file = \"churn.arff\"\n",
        "data = loader.load_file(data_file)"
      ],
      "metadata": {
        "id": "0i0euii69xe4"
      },
      "execution_count": 5,
      "outputs": []
    },
    {
      "cell_type": "markdown",
      "source": [
        "Identify the class index."
      ],
      "metadata": {
        "id": "-K25lfuH3FZJ"
      }
    },
    {
      "cell_type": "code",
      "source": [
        "class_idx = 20\n",
        "print(\"Data will be classified on\",data.attribute(class_idx))\n",
        "data.class_index = class_idx"
      ],
      "metadata": {
        "colab": {
          "base_uri": "https://localhost:8080/"
        },
        "id": "do-0cWnU-F8X",
        "outputId": "a0f021d3-707e-45b5-90ba-c0a684bb205a"
      },
      "execution_count": 6,
      "outputs": [
        {
          "output_type": "stream",
          "name": "stdout",
          "text": [
            "Data will be classified on @attribute Churn {FALSE,TRUE}\n"
          ]
        }
      ]
    },
    {
      "cell_type": "markdown",
      "source": [
        "## 1. Naive Bayes classifier including all attributes"
      ],
      "metadata": {
        "id": "Mecj7nnz-Mge"
      }
    },
    {
      "cell_type": "markdown",
      "source": [
        "Split train and test set by 70/30 split."
      ],
      "metadata": {
        "id": "kww72M97-UGW"
      }
    },
    {
      "cell_type": "code",
      "source": [
        "train, test = data.train_test_split(70.0, Random(1))"
      ],
      "metadata": {
        "id": "7CClMAOY-der"
      },
      "execution_count": 7,
      "outputs": []
    },
    {
      "cell_type": "markdown",
      "source": [
        "Run Naive Bayes classifier set to use both numeric and categorical data."
      ],
      "metadata": {
        "id": "OMTaK_dg-gX0"
      }
    },
    {
      "cell_type": "code",
      "source": [
        "nb = Classifier(classname=\"weka.classifiers.bayes.NaiveBayes\")\n",
        "nb.build_classifier(train)\n",
        "#understand the NB model by printing it\n",
        "#print(nb)"
      ],
      "metadata": {
        "id": "gxfolNF8-tXg"
      },
      "execution_count": 8,
      "outputs": []
    },
    {
      "cell_type": "markdown",
      "source": [
        "Evaluate on the test set."
      ],
      "metadata": {
        "id": "NgEXCcAe_IOP"
      }
    },
    {
      "cell_type": "code",
      "source": [
        "evl_nb = Evaluation(train)\n",
        "evl_nb.test_model(nb, test)\n",
        "print(evl_nb.summary())"
      ],
      "metadata": {
        "colab": {
          "base_uri": "https://localhost:8080/"
        },
        "id": "mNrw3TrN_Qt9",
        "outputId": "44bb4be6-eb76-42ab-8304-88d0646057d5"
      },
      "execution_count": 9,
      "outputs": [
        {
          "output_type": "stream",
          "name": "stdout",
          "text": [
            "\n",
            "Correctly Classified Instances         877               87.7    %\n",
            "Incorrectly Classified Instances       123               12.3    %\n",
            "Kappa statistic                          0.4753\n",
            "Mean absolute error                      0.1971\n",
            "Root mean squared error                  0.3124\n",
            "Relative absolute error                 79.5751 %\n",
            "Root relative squared error             88.9798 %\n",
            "Total Number of Instances             1000     \n",
            "\n"
          ]
        }
      ]
    },
    {
      "cell_type": "markdown",
      "source": [
        "Evaluation metrics for both False and True classes. "
      ],
      "metadata": {
        "id": "SzihpozA_VgB"
      }
    },
    {
      "cell_type": "code",
      "source": [
        "#Here are all the metrics for Naive Bayes\n",
        "\n",
        "print(\"Classes at different positions are \",data.attribute(class_idx))\n",
        "\n",
        "print(\"confusion Matrix\")\n",
        "#Note that the TP here will be for the class at the first position printed by the previous line\n",
        "print(evl_nb.confusion_matrix)\n",
        "\n",
        "###############\n",
        "# Print metrics for the first class: False\n",
        "##############\n",
        "class_position=0\n",
        "print(\"\")\n",
        "print (\"Evaluation from the perspective of class at position \"+ str(class_position))\n",
        "print(\"TP \",evl_nb.true_positive_rate(class_position))\n",
        "print(\"FP\",evl_nb.false_positive_rate(class_position))\n",
        "print(\"Precision \",evl_nb.precision(class_position))\n",
        "print(\"Recall \",evl_nb.recall(class_position))\n",
        "\n",
        "\n",
        "###############\n",
        "# Print metrics for the second class: True\n",
        "##############\n",
        "class_position=1\n",
        "print(\"\")\n",
        "print (\"Evaluation from the perspective of class at position \"+ str(class_position))\n",
        "print(\"TP \",evl_nb.true_positive_rate(class_position))\n",
        "print(\"FP\",evl_nb.false_positive_rate(class_position))\n",
        "print(\"Precision \",evl_nb.precision(class_position))\n",
        "print(\"Recall \",evl_nb.recall(class_position))"
      ],
      "metadata": {
        "colab": {
          "base_uri": "https://localhost:8080/"
        },
        "id": "kwrdWSy3_r8C",
        "outputId": "b3ed804b-d131-4c97-d21e-9ae03a0a39f5"
      },
      "execution_count": 10,
      "outputs": [
        {
          "output_type": "stream",
          "name": "stdout",
          "text": [
            "Classes at different positions are  @attribute Churn {FALSE,TRUE}\n",
            "confusion Matrix\n",
            "[[803.  53.]\n",
            " [ 70.  74.]]\n",
            "\n",
            "Evaluation from the perspective of class at position 0\n",
            "TP  0.9380841121495327\n",
            "FP 0.4861111111111111\n",
            "Precision  0.9198167239404352\n",
            "Recall  0.9380841121495327\n",
            "\n",
            "Evaluation from the perspective of class at position 1\n",
            "TP  0.5138888888888888\n",
            "FP 0.06191588785046729\n",
            "Precision  0.5826771653543307\n",
            "Recall  0.5138888888888888\n"
          ]
        }
      ]
    },
    {
      "cell_type": "markdown",
      "source": [
        "## 2. Naive Bayes Classification on selected attributes"
      ],
      "metadata": {
        "id": "0aWhEZLIAD4D"
      }
    },
    {
      "cell_type": "markdown",
      "source": [
        "Use subset of data to select features found in initial analysis. "
      ],
      "metadata": {
        "id": "lskRb8rpAORF"
      }
    },
    {
      "cell_type": "code",
      "source": [
        "#create new data set\n",
        "sel_data=data.subset(col_range='5,6,8,11,17,18,20,21')"
      ],
      "metadata": {
        "id": "MGqxSdDFAaba"
      },
      "execution_count": 11,
      "outputs": []
    },
    {
      "cell_type": "markdown",
      "source": [
        "Find the new class index."
      ],
      "metadata": {
        "id": "pB-FtGu-AfYy"
      }
    },
    {
      "cell_type": "code",
      "source": [
        "class_idx2 = 7\n",
        "print(\"Data will be classified on\",sel_data.attribute(class_idx2))\n",
        "sel_data.class_index = class_idx2"
      ],
      "metadata": {
        "colab": {
          "base_uri": "https://localhost:8080/"
        },
        "id": "NL9LqbH4Amux",
        "outputId": "7b8509ed-1378-4d31-ac61-4a9b02f7784c"
      },
      "execution_count": 12,
      "outputs": [
        {
          "output_type": "stream",
          "name": "stdout",
          "text": [
            "Data will be classified on @attribute Churn {FALSE,TRUE}\n"
          ]
        }
      ]
    },
    {
      "cell_type": "markdown",
      "source": [
        "Create train and test sets using a 70/30 split."
      ],
      "metadata": {
        "id": "Cl3ZyZnDAz-4"
      }
    },
    {
      "cell_type": "code",
      "source": [
        "train2, test2 = sel_data.train_test_split(70.0, Random(1))"
      ],
      "metadata": {
        "id": "kD8aGS1WA5Ni"
      },
      "execution_count": 13,
      "outputs": []
    },
    {
      "cell_type": "markdown",
      "source": [
        "Make new naive bayes classifier with selected attributes. "
      ],
      "metadata": {
        "id": "GpNetvb6BA9z"
      }
    },
    {
      "cell_type": "code",
      "source": [
        "nb2 = Classifier(classname=\"weka.classifiers.bayes.NaiveBayes\")\n",
        "nb2.build_classifier(train2)\n",
        "#understand the NB model by printing it\n",
        "#print(nb)"
      ],
      "metadata": {
        "id": "_Gyu4xfzBLxb"
      },
      "execution_count": 14,
      "outputs": []
    },
    {
      "cell_type": "markdown",
      "source": [
        "Evaluate on the test set."
      ],
      "metadata": {
        "id": "Es-nHp9JBSkS"
      }
    },
    {
      "cell_type": "code",
      "source": [
        "evl_nb2 = Evaluation(train2)\n",
        "evl_nb2.test_model(nb2, test2)\n",
        "print(evl_nb2.summary())"
      ],
      "metadata": {
        "colab": {
          "base_uri": "https://localhost:8080/"
        },
        "id": "5STFUA33BW9x",
        "outputId": "314dabcc-1f81-4f8c-d3b9-88dbf19de54f"
      },
      "execution_count": 15,
      "outputs": [
        {
          "output_type": "stream",
          "name": "stdout",
          "text": [
            "\n",
            "Correctly Classified Instances         872               87.2    %\n",
            "Incorrectly Classified Instances       128               12.8    %\n",
            "Kappa statistic                          0.3298\n",
            "Mean absolute error                      0.1862\n",
            "Root mean squared error                  0.3072\n",
            "Relative absolute error                 75.1766 %\n",
            "Root relative squared error             87.5014 %\n",
            "Total Number of Instances             1000     \n",
            "\n"
          ]
        }
      ]
    },
    {
      "cell_type": "markdown",
      "source": [
        "Evaluation metrics for the naive bayes classifier."
      ],
      "metadata": {
        "id": "URMP9GTWBryw"
      }
    },
    {
      "cell_type": "code",
      "source": [
        "print(\"Classes at different positions are \",sel_data.attribute(class_idx2))\n",
        "\n",
        "print(\"confusion Matrix\")\n",
        "#Note that the TP here will be for the class at the first position printed by the previous line\n",
        "print(evl_nb2.confusion_matrix)\n",
        "\n",
        "###############\n",
        "# Print metrics for the first class: False\n",
        "##############\n",
        "class_position=0\n",
        "print(\"\")\n",
        "print (\"Evaluation from the perspective of class at position \"+ str(class_position))\n",
        "print(\"TP \",evl_nb2.true_positive_rate(class_position))\n",
        "print(\"FP\",evl_nb2.false_positive_rate(class_position))\n",
        "print(\"Precision \",evl_nb2.precision(class_position))\n",
        "print(\"Recall \",evl_nb2.recall(class_position))\n",
        "\n",
        "\n",
        "###############\n",
        "# Print metrics for the second class: True\n",
        "##############\n",
        "class_position=1\n",
        "print(\"\")\n",
        "print (\"Evaluation from the perspective of class at position \"+ str(class_position))\n",
        "print(\"TP \",evl_nb2.true_positive_rate(class_position))\n",
        "print(\"FP\",evl_nb2.false_positive_rate(class_position))\n",
        "print(\"Precision \",evl_nb2.precision(class_position))\n",
        "print(\"Recall \",evl_nb2.recall(class_position))\n"
      ],
      "metadata": {
        "colab": {
          "base_uri": "https://localhost:8080/"
        },
        "id": "YOVsESM1Blk_",
        "outputId": "765bfbc1-4e1a-46e5-e2db-9fab78368db5"
      },
      "execution_count": 16,
      "outputs": [
        {
          "output_type": "stream",
          "name": "stdout",
          "text": [
            "Classes at different positions are  @attribute Churn {FALSE,TRUE}\n",
            "confusion Matrix\n",
            "[[831.  25.]\n",
            " [103.  41.]]\n",
            "\n",
            "Evaluation from the perspective of class at position 0\n",
            "TP  0.9707943925233645\n",
            "FP 0.7152777777777778\n",
            "Precision  0.8897216274089935\n",
            "Recall  0.9707943925233645\n",
            "\n",
            "Evaluation from the perspective of class at position 1\n",
            "TP  0.2847222222222222\n",
            "FP 0.029205607476635514\n",
            "Precision  0.6212121212121212\n",
            "Recall  0.2847222222222222\n"
          ]
        }
      ]
    },
    {
      "cell_type": "code",
      "source": [
        "#stop the JVM (Java Virtual Machine)\n",
        "jvm.stop()"
      ],
      "metadata": {
        "id": "nfu0nEtnGUCo"
      },
      "execution_count": 17,
      "outputs": []
    }
  ]
}