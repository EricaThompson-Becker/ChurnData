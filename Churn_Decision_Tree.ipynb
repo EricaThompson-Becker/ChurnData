{
  "nbformat": 4,
  "nbformat_minor": 0,
  "metadata": {
    "colab": {
      "name": "Churn-Decision-Tree.ipynb",
      "provenance": [],
      "collapsed_sections": []
    },
    "kernelspec": {
      "name": "python3",
      "display_name": "Python 3"
    },
    "language_info": {
      "name": "python"
    }
  },
  "cells": [
    {
      "cell_type": "markdown",
      "source": [
        "# To Churn or not to Churn?\n",
        "## Decision Tree Classifier\n",
        "### Author: E. Thompson-Becker\n",
        "##### Code editied from python weka tutorial recieved from Toronto Metropolitan University, CIND 119 - Introduction to Big Data by Syed Shariyar Murtaza,Ph.D."
      ],
      "metadata": {
        "id": "Y7AWttCrphDh"
      }
    },
    {
      "cell_type": "markdown",
      "source": [
        "Install Weka's Python Package"
      ],
      "metadata": {
        "id": "dKtBS-OzleEW"
      }
    },
    {
      "cell_type": "code",
      "execution_count": null,
      "metadata": {
        "colab": {
          "base_uri": "https://localhost:8080/"
        },
        "id": "01bU86NYGF5r",
        "outputId": "36a5b3bf-15c3-497c-e032-93df5667f87b"
      },
      "outputs": [
        {
          "output_type": "stream",
          "name": "stdout",
          "text": [
            "Looking in indexes: https://pypi.org/simple, https://us-python.pkg.dev/colab-wheels/public/simple/\n",
            "Collecting python-weka-wrapper3\n",
            "  Downloading python-weka-wrapper3-0.2.10.tar.gz (14.4 MB)\n",
            "\u001b[K     |████████████████████████████████| 14.4 MB 20.9 MB/s \n",
            "\u001b[?25hCollecting python-javabridge>=4.0.0\n",
            "  Downloading python-javabridge-4.0.3.tar.gz (1.3 MB)\n",
            "\u001b[K     |████████████████████████████████| 1.3 MB 36.3 MB/s \n",
            "\u001b[?25hRequirement already satisfied: numpy in /usr/local/lib/python3.7/dist-packages (from python-weka-wrapper3) (1.21.6)\n",
            "Requirement already satisfied: packaging in /usr/local/lib/python3.7/dist-packages (from python-weka-wrapper3) (21.3)\n",
            "Requirement already satisfied: pyparsing!=3.0.5,>=2.0.2 in /usr/local/lib/python3.7/dist-packages (from packaging->python-weka-wrapper3) (3.0.9)\n",
            "Building wheels for collected packages: python-weka-wrapper3, python-javabridge\n",
            "  Building wheel for python-weka-wrapper3 (setup.py) ... \u001b[?25l\u001b[?25hdone\n",
            "  Created wheel for python-weka-wrapper3: filename=python_weka_wrapper3-0.2.10-py3-none-any.whl size=12993854 sha256=2f178bfac69d6f53f5f9a7aa22d49ca658f3084cccb7fccd76638e1c502d425e\n",
            "  Stored in directory: /root/.cache/pip/wheels/a4/e9/93/c8dc5119f22ea38aa2bfbd02c33f4b2a6c6293f1a86283fd91\n",
            "  Building wheel for python-javabridge (setup.py) ... \u001b[?25l\u001b[?25hdone\n",
            "  Created wheel for python-javabridge: filename=python_javabridge-4.0.3-cp37-cp37m-linux_x86_64.whl size=1628190 sha256=b42bebe8f9fb8c4f6061d7aca4bc6c62a542f801f2dc9ce2a51a36e5269bd07a\n",
            "  Stored in directory: /root/.cache/pip/wheels/63/7e/91/01b1bd8d29b4323834feb5cfec49b857fb212e6efc74ce103c\n",
            "Successfully built python-weka-wrapper3 python-javabridge\n",
            "Installing collected packages: python-javabridge, python-weka-wrapper3\n",
            "Successfully installed python-javabridge-4.0.3 python-weka-wrapper3-0.2.10\n"
          ]
        }
      ],
      "source": [
        "#install weka's python package\n",
        "! pip install python-weka-wrapper3"
      ]
    },
    {
      "cell_type": "markdown",
      "source": [
        "Set up Java and launch it in a python environment."
      ],
      "metadata": {
        "id": "Y6DVU-Shln9q"
      }
    },
    {
      "cell_type": "code",
      "source": [
        "import os\n",
        "import sys\n",
        "sys.path\n",
        "sys.path.append(\"/usr/lib/jvm/java-11-openjdk-amd64/bin/\")\n",
        "os.environ[\"JAVA_HOME\"] = \"/usr/lib/jvm/java-11-openjdk-amd64/\"\n",
        "\n",
        "import weka.core.jvm as jvm\n",
        "jvm.start()"
      ],
      "metadata": {
        "colab": {
          "base_uri": "https://localhost:8080/"
        },
        "id": "qsHCIqY4GQdA",
        "outputId": "38b99d7b-8e2b-4eb0-e080-68b40fdf68c0"
      },
      "execution_count": 5,
      "outputs": [
        {
          "output_type": "stream",
          "name": "stderr",
          "text": [
            "DEBUG:weka.core.jvm:Adding bundled jars\n",
            "DEBUG:weka.core.jvm:Classpath=['/usr/local/lib/python3.7/dist-packages/javabridge/jars/rhino-1.7R4.jar', '/usr/local/lib/python3.7/dist-packages/javabridge/jars/runnablequeue.jar', '/usr/local/lib/python3.7/dist-packages/javabridge/jars/cpython.jar', '/usr/local/lib/python3.7/dist-packages/weka/lib/python-weka-wrapper.jar', '/usr/local/lib/python3.7/dist-packages/weka/lib/weka.jar']\n",
            "DEBUG:weka.core.jvm:MaxHeapSize=default\n",
            "DEBUG:weka.core.jvm:Package support disabled\n"
          ]
        }
      ]
    },
    {
      "cell_type": "markdown",
      "source": [
        "Import data set into the environment."
      ],
      "metadata": {
        "id": "SckRfODll7VR"
      }
    },
    {
      "cell_type": "code",
      "source": [
        "from google.colab import files\n",
        "uploaded = files.upload()"
      ],
      "metadata": {
        "colab": {
          "resources": {
            "http://localhost:8080/nbextensions/google.colab/files.js": {
              "data": "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",
              "ok": true,
              "headers": [
                [
                  "content-type",
                  "application/javascript"
                ]
              ],
              "status": 200,
              "status_text": ""
            }
          },
          "base_uri": "https://localhost:8080/",
          "height": 74
        },
        "id": "Ou_tTcnXGnaG",
        "outputId": "13e8342d-e25c-462a-fd01-40e9c939d743"
      },
      "execution_count": 6,
      "outputs": [
        {
          "output_type": "display_data",
          "data": {
            "text/plain": [
              "<IPython.core.display.HTML object>"
            ],
            "text/html": [
              "\n",
              "     <input type=\"file\" id=\"files-8d8ae321-8f32-47b6-a50b-a271ac009dbc\" name=\"files[]\" multiple disabled\n",
              "        style=\"border:none\" />\n",
              "     <output id=\"result-8d8ae321-8f32-47b6-a50b-a271ac009dbc\">\n",
              "      Upload widget is only available when the cell has been executed in the\n",
              "      current browser session. Please rerun this cell to enable.\n",
              "      </output>\n",
              "      <script src=\"/nbextensions/google.colab/files.js\"></script> "
            ]
          },
          "metadata": {}
        },
        {
          "output_type": "stream",
          "name": "stdout",
          "text": [
            "Saving churn.arff to churn (1).arff\n"
          ]
        }
      ]
    },
    {
      "cell_type": "markdown",
      "source": [
        "Import packages."
      ],
      "metadata": {
        "id": "8bIE9Yc1mVhf"
      }
    },
    {
      "cell_type": "code",
      "source": [
        "from weka.core.converters import Loader\n",
        "from weka.core.classes import Random\n",
        "from weka.classifiers import Classifier, Evaluation\n",
        "from weka.filters import Filter"
      ],
      "metadata": {
        "id": "8owMTWKOGsKq"
      },
      "execution_count": 7,
      "outputs": []
    },
    {
      "cell_type": "markdown",
      "source": [
        "Load data into the memory to keep it in the environment."
      ],
      "metadata": {
        "id": "uQ1dkgVJmdkZ"
      }
    },
    {
      "cell_type": "code",
      "source": [
        "loader = Loader(classname=\"weka.core.converters.ArffLoader\")\n",
        "data_file = \"churn.arff\"\n",
        "data = loader.load_file(data_file)"
      ],
      "metadata": {
        "id": "bv4Sx89Imcdg"
      },
      "execution_count": 8,
      "outputs": []
    },
    {
      "cell_type": "markdown",
      "source": [
        "Identify the class index, which is attribute number 20, Churn?  \n",
        "Churn has two outcomes True or False."
      ],
      "metadata": {
        "id": "6j42Lv9JmuAi"
      }
    },
    {
      "cell_type": "code",
      "source": [
        "class_idx = 20\n",
        "print(\"Data will be classified on\",data.attribute(class_idx))\n",
        "data.class_index = class_idx"
      ],
      "metadata": {
        "colab": {
          "base_uri": "https://localhost:8080/"
        },
        "id": "XcK5SiUDGwcv",
        "outputId": "0e8e96bc-ff64-44bb-aeda-40d567d92440"
      },
      "execution_count": 9,
      "outputs": [
        {
          "output_type": "stream",
          "name": "stdout",
          "text": [
            "Data will be classified on @attribute Churn {FALSE,TRUE}\n"
          ]
        }
      ]
    },
    {
      "cell_type": "markdown",
      "source": [
        "## 1. Decision Tree Classifier including all attributes \n"
      ],
      "metadata": {
        "id": "o08Ga3XorS_j"
      }
    },
    {
      "cell_type": "markdown",
      "source": [
        "Split data into train and test sets. Split on a 70/30 split. Setting a seed of one for a random number generator. "
      ],
      "metadata": {
        "id": "lt1nAnqTnIWG"
      }
    },
    {
      "cell_type": "code",
      "source": [
        "train, test = data.train_test_split(70.0, Random(1))"
      ],
      "metadata": {
        "id": "l7-eXDzanwcR"
      },
      "execution_count": 10,
      "outputs": []
    },
    {
      "cell_type": "markdown",
      "source": [
        "Create decision tree using weka J48 which creates a pruned C4.5 decision tree. This tree splits using the attribute with the highest information gain."
      ],
      "metadata": {
        "id": "2qE8UyAln4qd"
      }
    },
    {
      "cell_type": "code",
      "source": [
        "# You can change it to different threshold values to change the size of the tree.\n",
        "cls = Classifier(classname=\"weka.classifiers.trees.J48\", options=[\"-C\", \"0.25\"])\n",
        "cls.build_classifier(train)\n",
        "# See the tree below. \n",
        "print(cls)"
      ],
      "metadata": {
        "colab": {
          "base_uri": "https://localhost:8080/"
        },
        "id": "50IpH2MCoG2T",
        "outputId": "7492281e-7bf7-437c-d2a8-99a9cf099fe8"
      },
      "execution_count": 11,
      "outputs": [
        {
          "output_type": "stream",
          "name": "stdout",
          "text": [
            "J48 pruned tree\n",
            "------------------\n",
            "\n",
            "Total Day Min <= 264.3\n",
            "|   No of Calls Customer Service <= 3\n",
            "|   |   Inter Plan = no\n",
            "|   |   |   Total Day Min <= 224.8: FALSE (1576.0/39.0)\n",
            "|   |   |   Total Day Min > 224.8\n",
            "|   |   |   |   Total Evening Charge <= 20.5: FALSE (193.0/13.0)\n",
            "|   |   |   |   Total Evening Charge > 20.5\n",
            "|   |   |   |   |   VoiceMail Plan = yes: FALSE (9.0)\n",
            "|   |   |   |   |   VoiceMail Plan = no: TRUE (47.0/17.0)\n",
            "|   |   Inter Plan = yes\n",
            "|   |   |   Total Int Calls <= 2: TRUE (36.0)\n",
            "|   |   |   Total Int Calls > 2\n",
            "|   |   |   |   Total Int Min <= 13.1: FALSE (124.0/5.0)\n",
            "|   |   |   |   Total Int Min > 13.1: TRUE (34.0)\n",
            "|   No of Calls Customer Service > 3\n",
            "|   |   Total Day Min <= 159.7: TRUE (69.0/9.0)\n",
            "|   |   Total Day Min > 159.7\n",
            "|   |   |   Total Evening Min <= 141.6\n",
            "|   |   |   |   Total Int Calls <= 6: TRUE (11.0)\n",
            "|   |   |   |   Total Int Calls > 6: FALSE (2.0)\n",
            "|   |   |   Total Evening Min > 141.6: FALSE (86.0/17.0)\n",
            "Total Day Min > 264.3\n",
            "|   VoiceMail Plan = yes\n",
            "|   |   Inter Plan = no: FALSE (28.0/1.0)\n",
            "|   |   Inter Plan = yes: TRUE (4.0/1.0)\n",
            "|   VoiceMail Plan = no\n",
            "|   |   Total Night Minutes <= 126.9: FALSE (8.0/1.0)\n",
            "|   |   Total Night Minutes > 126.9: TRUE (106.0/17.0)\n",
            "\n",
            "Number of Leaves  : \t15\n",
            "\n",
            "Size of the tree : \t29\n",
            "\n"
          ]
        }
      ]
    },
    {
      "cell_type": "markdown",
      "source": [
        "show graph."
      ],
      "metadata": {
        "id": "gomENjlhoYi5"
      }
    },
    {
      "cell_type": "code",
      "source": [
        "import weka.plot.graph as graph  # If pygrpahviz is installed, you can plot the graph of tree too but it may not work\n",
        "graph.plot_dot_graph(cls.graph)\n"
      ],
      "metadata": {
        "id": "65uLQ3rOoXpm"
      },
      "execution_count": 20,
      "outputs": []
    },
    {
      "cell_type": "markdown",
      "source": [
        "Evaluate the decision tree on the test set."
      ],
      "metadata": {
        "id": "UmEb4Xsro0LH"
      }
    },
    {
      "cell_type": "code",
      "source": [
        "evl = Evaluation(train)\n",
        "evl.test_model(cls, test)\n",
        "print(evl.summary())"
      ],
      "metadata": {
        "colab": {
          "base_uri": "https://localhost:8080/"
        },
        "id": "UkZJJyu6o7p7",
        "outputId": "4765dbbf-1519-413b-8ca2-df6201cf8b68"
      },
      "execution_count": 21,
      "outputs": [
        {
          "output_type": "stream",
          "name": "stdout",
          "text": [
            "\n",
            "Correctly Classified Instances         930               93      %\n",
            "Incorrectly Classified Instances        70                7      %\n",
            "Kappa statistic                          0.7005\n",
            "Mean absolute error                      0.1073\n",
            "Root mean squared error                  0.2484\n",
            "Relative absolute error                 43.3111 %\n",
            "Root relative squared error             70.7577 %\n",
            "Total Number of Instances             1000     \n",
            "\n"
          ]
        }
      ]
    },
    {
      "cell_type": "markdown",
      "source": [
        "Evaluate the decision tree classifier on the test set for the first class: False and the second class: True."
      ],
      "metadata": {
        "id": "wfJjFCfipHcT"
      }
    },
    {
      "cell_type": "code",
      "source": [
        "# Here are all the metrics\n",
        "#print (\"Class Index \", class_idx)\n",
        "print(\"Classes at different positions are \",data.attribute(class_idx))\n",
        "\n",
        "print(\"confusion Matrix\")\n",
        "#Note that the TP here will be for the class at the first position printed by the previous line and TN will be for the class at second position\n",
        "print(evl.confusion_matrix)\n",
        "\n",
        "###############\n",
        "# Print metrics for the first class\n",
        "##############\n",
        "class_position=0\n",
        "print(\"\")\n",
        "print (\"Evaluation from the perspective of class at position \"+ str(class_position))\n",
        "print(\"TP \",evl.true_positive_rate(class_position))\n",
        "print(\"FP\",evl.false_positive_rate(class_position))\n",
        "print(\"Precision \",evl.precision(class_position))\n",
        "print(\"Recall \",evl.recall(class_position))\n",
        "\n",
        "\n",
        "###############\n",
        "# Print metrics for the second class\n",
        "##############\n",
        "class_position=1\n",
        "print(\"\")\n",
        "print (\"Evaluation from the perspective of class at position \"+ str(class_position))\n",
        "print(\"TP \",evl.true_positive_rate(class_position))\n",
        "print(\"FP\",evl.false_positive_rate(class_position))\n",
        "print(\"Precision \",evl.precision(class_position))\n",
        "print(\"Recall \",evl.recall(class_position))\n"
      ],
      "metadata": {
        "colab": {
          "base_uri": "https://localhost:8080/"
        },
        "id": "b5c6wwi9pP8l",
        "outputId": "27b769f6-0e88-4357-8972-616ba9acb016"
      },
      "execution_count": 22,
      "outputs": [
        {
          "output_type": "stream",
          "name": "stdout",
          "text": [
            "Classes at different positions are  @attribute Churn {FALSE,TRUE}\n",
            "confusion Matrix\n",
            "[[830.  26.]\n",
            " [ 44. 100.]]\n",
            "\n",
            "Evaluation from the perspective of class at position 0\n",
            "TP  0.969626168224299\n",
            "FP 0.3055555555555556\n",
            "Precision  0.9496567505720824\n",
            "Recall  0.969626168224299\n",
            "\n",
            "Evaluation from the perspective of class at position 1\n",
            "TP  0.6944444444444444\n",
            "FP 0.030373831775700934\n",
            "Precision  0.7936507936507936\n",
            "Recall  0.6944444444444444\n"
          ]
        }
      ]
    },
    {
      "cell_type": "markdown",
      "source": [
        "## 2. Decision Tree Classifier with select attributes"
      ],
      "metadata": {
        "id": "ubKqFM8nsjd8"
      }
    },
    {
      "cell_type": "markdown",
      "source": [
        "Create the new data set with the selected attributes found in the initial analysis. "
      ],
      "metadata": {
        "id": "DZDZHRN53RBF"
      }
    },
    {
      "cell_type": "code",
      "source": [
        "#create new data set\n",
        "sel_data=data.subset(col_range='5,6,8,11,17,18,20,21')"
      ],
      "metadata": {
        "id": "cRtIaU-w3P5-"
      },
      "execution_count": 23,
      "outputs": []
    },
    {
      "cell_type": "markdown",
      "source": [
        "Identify the new class index. "
      ],
      "metadata": {
        "id": "77T6nkDy4Kcz"
      }
    },
    {
      "cell_type": "code",
      "source": [
        "#Let's look at the attributes and their types\n",
        "# We have two data types here: categorical and numeric.\n",
        "for i in range(sel_data.num_attributes):\n",
        "  print (\"index \",i)\n",
        "  print(sel_data.attribute(i))"
      ],
      "metadata": {
        "colab": {
          "base_uri": "https://localhost:8080/"
        },
        "id": "GFjCwI0j4YRo",
        "outputId": "1bcf1a16-01d2-4706-db96-c0ac039b95a8"
      },
      "execution_count": 24,
      "outputs": [
        {
          "output_type": "stream",
          "name": "stdout",
          "text": [
            "index  0\n",
            "@attribute 'Inter Plan' {no,yes}\n",
            "index  1\n",
            "@attribute 'VoiceMail Plan' {yes,no}\n",
            "index  2\n",
            "@attribute 'Total Day Min' numeric\n",
            "index  3\n",
            "@attribute 'Total Evening Min' numeric\n",
            "index  4\n",
            "@attribute 'Total Int Min' numeric\n",
            "index  5\n",
            "@attribute 'Total Int Calls' numeric\n",
            "index  6\n",
            "@attribute 'No of Calls Customer Service' numeric\n",
            "index  7\n",
            "@attribute Churn {FALSE,TRUE}\n"
          ]
        }
      ]
    },
    {
      "cell_type": "code",
      "source": [
        "class_idx2 = 7\n",
        "print(\"Data will be classified on\",sel_data.attribute(class_idx2))\n",
        "sel_data.class_index = class_idx2"
      ],
      "metadata": {
        "colab": {
          "base_uri": "https://localhost:8080/"
        },
        "id": "EmfLu0Ph4JmG",
        "outputId": "e8ed551c-d3eb-426c-cb12-1313f71d05ea"
      },
      "execution_count": 25,
      "outputs": [
        {
          "output_type": "stream",
          "name": "stdout",
          "text": [
            "Data will be classified on @attribute Churn {FALSE,TRUE}\n"
          ]
        }
      ]
    },
    {
      "cell_type": "markdown",
      "source": [
        "Split data into train and test sets, using the 70/30 split with the random seed."
      ],
      "metadata": {
        "id": "SOMxQ1kX4ucd"
      }
    },
    {
      "cell_type": "code",
      "source": [
        "train2, test2 = sel_data.train_test_split(70.0, Random(1))"
      ],
      "metadata": {
        "id": "B3FrdQwQ42LA"
      },
      "execution_count": 26,
      "outputs": []
    },
    {
      "cell_type": "markdown",
      "source": [
        "Create the new decision tree classifier."
      ],
      "metadata": {
        "id": "yzmX6-o_493a"
      }
    },
    {
      "cell_type": "code",
      "source": [
        "# We are generating a pruned C4.5 decision tree, with a confidence factor used for pruning of 0.25.\n",
        "# You can change it to different threshold values to change the size of the tree.\n",
        "cls2 = Classifier(classname=\"weka.classifiers.trees.J48\", options=[\"-C\", \"0.25\"])\n",
        "cls2.build_classifier(train2)\n",
        "# See the tree below. \n",
        "print(cls2)"
      ],
      "metadata": {
        "colab": {
          "base_uri": "https://localhost:8080/"
        },
        "id": "8IyhQc425HYW",
        "outputId": "f77233e3-0af6-4ed8-84f2-5efbbe802685"
      },
      "execution_count": 27,
      "outputs": [
        {
          "output_type": "stream",
          "name": "stdout",
          "text": [
            "J48 pruned tree\n",
            "------------------\n",
            "\n",
            "Total Day Min <= 264.3\n",
            "|   No of Calls Customer Service <= 3\n",
            "|   |   Inter Plan = no\n",
            "|   |   |   Total Day Min <= 224.8: FALSE (1576.0/39.0)\n",
            "|   |   |   Total Day Min > 224.8\n",
            "|   |   |   |   Total Evening Min <= 241.2: FALSE (193.0/13.0)\n",
            "|   |   |   |   Total Evening Min > 241.2\n",
            "|   |   |   |   |   VoiceMail Plan = yes: FALSE (9.0)\n",
            "|   |   |   |   |   VoiceMail Plan = no\n",
            "|   |   |   |   |   |   Total Evening Min <= 269.3\n",
            "|   |   |   |   |   |   |   Total Day Min <= 235.9: FALSE (13.0/2.0)\n",
            "|   |   |   |   |   |   |   Total Day Min > 235.9\n",
            "|   |   |   |   |   |   |   |   Total Int Min <= 7.3: FALSE (2.0)\n",
            "|   |   |   |   |   |   |   |   Total Int Min > 7.3\n",
            "|   |   |   |   |   |   |   |   |   Total Int Calls <= 6: TRUE (14.0/1.0)\n",
            "|   |   |   |   |   |   |   |   |   Total Int Calls > 6: FALSE (3.0/1.0)\n",
            "|   |   |   |   |   |   Total Evening Min > 269.3: TRUE (15.0/1.0)\n",
            "|   |   Inter Plan = yes\n",
            "|   |   |   Total Int Calls <= 2: TRUE (36.0)\n",
            "|   |   |   Total Int Calls > 2\n",
            "|   |   |   |   Total Int Min <= 13.1\n",
            "|   |   |   |   |   Total Evening Min <= 301.7: FALSE (117.0/2.0)\n",
            "|   |   |   |   |   Total Evening Min > 301.7\n",
            "|   |   |   |   |   |   Total Day Min <= 209.2: FALSE (4.0)\n",
            "|   |   |   |   |   |   Total Day Min > 209.2: TRUE (3.0)\n",
            "|   |   |   |   Total Int Min > 13.1: TRUE (34.0)\n",
            "|   No of Calls Customer Service > 3\n",
            "|   |   Total Day Min <= 159.7\n",
            "|   |   |   Total Evening Min <= 193.8: TRUE (33.0)\n",
            "|   |   |   Total Evening Min > 193.8\n",
            "|   |   |   |   Total Day Min <= 137.8: TRUE (23.0/1.0)\n",
            "|   |   |   |   Total Day Min > 137.8\n",
            "|   |   |   |   |   Inter Plan = no\n",
            "|   |   |   |   |   |   VoiceMail Plan = yes: FALSE (4.0)\n",
            "|   |   |   |   |   |   VoiceMail Plan = no\n",
            "|   |   |   |   |   |   |   Total Evening Min <= 232.3: TRUE (3.0)\n",
            "|   |   |   |   |   |   |   Total Evening Min > 232.3: FALSE (4.0)\n",
            "|   |   |   |   |   Inter Plan = yes: TRUE (2.0)\n",
            "|   |   Total Day Min > 159.7\n",
            "|   |   |   Total Evening Min <= 141.6\n",
            "|   |   |   |   Total Int Calls <= 6: TRUE (11.0)\n",
            "|   |   |   |   Total Int Calls > 6: FALSE (2.0)\n",
            "|   |   |   Total Evening Min > 141.6\n",
            "|   |   |   |   Total Day Min <= 173.5\n",
            "|   |   |   |   |   Total Evening Min <= 211.9: TRUE (11.0/1.0)\n",
            "|   |   |   |   |   Total Evening Min > 211.9: FALSE (9.0)\n",
            "|   |   |   |   Total Day Min > 173.5\n",
            "|   |   |   |   |   Inter Plan = no: FALSE (53.0/2.0)\n",
            "|   |   |   |   |   Inter Plan = yes\n",
            "|   |   |   |   |   |   Total Int Calls <= 3: TRUE (4.0)\n",
            "|   |   |   |   |   |   Total Int Calls > 3: FALSE (9.0/1.0)\n",
            "Total Day Min > 264.3\n",
            "|   VoiceMail Plan = yes\n",
            "|   |   Inter Plan = no: FALSE (28.0/1.0)\n",
            "|   |   Inter Plan = yes: TRUE (4.0/1.0)\n",
            "|   VoiceMail Plan = no\n",
            "|   |   Total Evening Min <= 187.7\n",
            "|   |   |   Total Day Min <= 310.4\n",
            "|   |   |   |   No of Calls Customer Service <= 0: TRUE (7.0/1.0)\n",
            "|   |   |   |   No of Calls Customer Service > 0: FALSE (25.0/6.0)\n",
            "|   |   |   Total Day Min > 310.4: TRUE (7.0)\n",
            "|   |   Total Evening Min > 187.7\n",
            "|   |   |   Inter Plan = no: TRUE (64.0/1.0)\n",
            "|   |   |   Inter Plan = yes\n",
            "|   |   |   |   Total Day Min <= 271.6: FALSE (2.0)\n",
            "|   |   |   |   Total Day Min > 271.6: TRUE (9.0/1.0)\n",
            "\n",
            "Number of Leaves  : \t34\n",
            "\n",
            "Size of the tree : \t67\n",
            "\n"
          ]
        }
      ]
    },
    {
      "cell_type": "markdown",
      "source": [
        "Evaluate on the test set."
      ],
      "metadata": {
        "id": "Cqlf2NYm5Xij"
      }
    },
    {
      "cell_type": "code",
      "source": [
        "evl2 = Evaluation(train2)\n",
        "evl2.test_model(cls2, test2)\n",
        "print(evl2.summary())"
      ],
      "metadata": {
        "colab": {
          "base_uri": "https://localhost:8080/"
        },
        "id": "VmTBewSY5n-u",
        "outputId": "b01dce3b-c159-4670-a800-61b26db6b5da"
      },
      "execution_count": 28,
      "outputs": [
        {
          "output_type": "stream",
          "name": "stdout",
          "text": [
            "\n",
            "Correctly Classified Instances         947               94.7    %\n",
            "Incorrectly Classified Instances        53                5.3    %\n",
            "Kappa statistic                          0.7608\n",
            "Mean absolute error                      0.0787\n",
            "Root mean squared error                  0.2203\n",
            "Relative absolute error                 31.7809 %\n",
            "Root relative squared error             62.7539 %\n",
            "Total Number of Instances             1000     \n",
            "\n"
          ]
        }
      ]
    },
    {
      "cell_type": "markdown",
      "source": [
        "Use evaluation metrics to test the individual classes. "
      ],
      "metadata": {
        "id": "PmbQdxFn5xv2"
      }
    },
    {
      "cell_type": "code",
      "source": [
        "# Here are all the metrics\n",
        "#print (\"Class Index \", class_idx)\n",
        "print(\"Classes at different positions are \",sel_data.attribute(class_idx2))\n",
        "\n",
        "print(\"confusion Matrix\")\n",
        "#Note that the TP here will be for the class at the first position printed by the previous line and TN will be for the class at second position\n",
        "print(evl2.confusion_matrix)\n",
        "\n",
        "###############\n",
        "# Print metrics for the first class\n",
        "##############\n",
        "class_position=0\n",
        "print(\"\")\n",
        "print (\"Evaluation from the perspective of class at position \"+ str(class_position))\n",
        "print(\"TP \",evl2.true_positive_rate(class_position))\n",
        "print(\"FP\",evl2.false_positive_rate(class_position))\n",
        "print(\"Precision \",evl2.precision(class_position))\n",
        "print(\"Recall \",evl2.recall(class_position))\n",
        "\n",
        "\n",
        "###############\n",
        "# Print metrics for the second class\n",
        "##############\n",
        "class_position=1\n",
        "print(\"\")\n",
        "print (\"Evaluation from the perspective of class at position \"+ str(class_position))\n",
        "print(\"TP \",evl2.true_positive_rate(class_position))\n",
        "print(\"FP\",evl2.false_positive_rate(class_position))\n",
        "print(\"Precision \",evl2.precision(class_position))\n",
        "print(\"Recall \",evl2.recall(class_position))"
      ],
      "metadata": {
        "colab": {
          "base_uri": "https://localhost:8080/"
        },
        "id": "w5gldM_D6C7W",
        "outputId": "0860d5c1-ebd7-41ca-fdd3-5322c35b4059"
      },
      "execution_count": 29,
      "outputs": [
        {
          "output_type": "stream",
          "name": "stdout",
          "text": [
            "Classes at different positions are  @attribute Churn {FALSE,TRUE}\n",
            "confusion Matrix\n",
            "[[847.   9.]\n",
            " [ 44. 100.]]\n",
            "\n",
            "Evaluation from the perspective of class at position 0\n",
            "TP  0.9894859813084113\n",
            "FP 0.3055555555555556\n",
            "Precision  0.9506172839506173\n",
            "Recall  0.9894859813084113\n",
            "\n",
            "Evaluation from the perspective of class at position 1\n",
            "TP  0.6944444444444444\n",
            "FP 0.010514018691588784\n",
            "Precision  0.9174311926605505\n",
            "Recall  0.6944444444444444\n"
          ]
        }
      ]
    },
    {
      "cell_type": "code",
      "source": [
        "#stop the JVM (Java Virtual Machine)\n",
        "jvm.stop()"
      ],
      "metadata": {
        "id": "7SfBENOfIp0P"
      },
      "execution_count": 30,
      "outputs": []
    }
  ]
}